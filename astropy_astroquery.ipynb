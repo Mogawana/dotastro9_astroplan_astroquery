{
 "cells": [
  {
   "cell_type": "markdown",
   "metadata": {
    "deletable": true,
    "editable": true
   },
   "source": [
    "# Astropy Affiliated Packages: [`astroquery`](https://astroquery.readthedocs.io) and [`astroplan`](https://astroplan.readthedocs.io/en/latest/)\n",
    "<br /><br />\n",
    "\n",
    "![astropy logo](http://astropy.readthedocs.org/en/stable/_images/astropy_banner.svg)\n",
    "\n",
    "<br /><br />\n",
    "\n",
    "## Table of contents\n",
    "* [astroquery](#astroquery)\n",
    "  * [SIMBAD queries](#simbad)\n",
    "  * [Vizier queries](#vizier)\n",
    "* [astroplan](#astroplan)\n",
    "  * [Intro to astroplan](#introastroplan)\n",
    "  * [Constraints](#constraints)\n",
    "  * [Plots](#plots)\n",
    "\n",
    "\n",
    "\n",
    "<br /><br />\n",
    "\n",
    "#### What is an [affiliated package](http://www.astropy.org/affiliated/)?\n",
    "\n",
    "From the astropy webpage: \n",
    "\n",
    "> A major part of the Astropy Project is the concept of “Affiliated Packages”... These packages demonstrate a commitment to Astropy’s goals of **improving reuse, interoperability, and interface standards** for Python astronomy and astrophysics packages. \n",
    "\n",
    "Astropy's goal is to be a core package for astronomy in Python. Affiliated packages extend the reach of astropy into specific niches not already supported by astropy. \n",
    "\n",
    "#### Abbreviated package census\n",
    "are too many affiliated pacakges to go over them all in my 20 minute slot, so I'm going to focus on two in this talk. But be sure to check out these others: \n",
    "\n",
    "* Cosmic ray detection in images [astroscrappy](https://github.com/astropy/astroscrappy)\n",
    "* CCD data processing with [ccdproc](https://github.com/astropy/ccdproc)\n",
    "* Linked data visualization with [glue](https://github.com/glue-viz/glue)\n",
    "* Photometry tools from [photutils](https://github.com/astropy/photutils.git)\n",
    "* Astronomical image reprojection with [reproject](https://github.com/astrofrog/reproject)\n",
    "\n",
    "...and more! See a complete list of affiliated packages [here](http://www.astropy.org/affiliated/).\n",
    "\n",
    "#### Starting your own affiliated package\n",
    "\n",
    "If you'd like to make your own package astropy affiliated, you can quickly make your pacakge conform to the astropy affiliated package standards by using the [package-template](https://github.com/astropy/package-template), which sets your package up for testing and documentation.\n",
    "\n",
    "***\n",
    "\n",
    "\n",
    "# [`astroquery`](https://astroquery.readthedocs.io) <a id='astroquery'></a>\n",
    "\n",
    "\n",
    "\n",
    "`astroquery` allows you to query astronomical databases with ease. \n",
    "\n",
    "### SIMBAD: [`astroquery.simbad`](http://astroquery.readthedocs.io/en/latest/simbad/simbad.html)<a id='simbad'></a>\n",
    "\n",
    "\n",
    "Suppose you're about to observe the exoplanet host star HD 189733, and you'd like to know its: \n",
    "\n",
    "* position\n",
    "* $B$ and $V$ colors\n",
    "* spectral type\n",
    "\n",
    "All of this information is easily accessible via the [SIMBAD Astronomical Database](http://simbad.u-strasbg.fr).\n",
    "\n",
    "Let's query for the SIMBAD for this object (a star):"
   ]
  },
  {
   "cell_type": "code",
   "execution_count": null,
   "metadata": {
    "collapsed": false,
    "deletable": true,
    "editable": true
   },
   "outputs": [],
   "source": [
    "from astroquery.simbad import Simbad\n",
    "\n",
    "identifier = 'HD 189773'\n",
    "\n",
    "result = Simbad.query_object(identifier)\n",
    "result"
   ]
  },
  {
   "cell_type": "markdown",
   "metadata": {
    "deletable": true,
    "editable": true
   },
   "source": [
    "You can see that some basic information is returned in an [`Table`](http://docs.astropy.org/en/stable/table/) object. We can create an [`SkyCoord`](http://docs.astropy.org/en/stable/api/astropy.coordinates.SkyCoord.html#astropy.coordinates.SkyCoord) object to describe its position by accessing the `ra` and `dec` columns:"
   ]
  },
  {
   "cell_type": "code",
   "execution_count": null,
   "metadata": {
    "collapsed": false,
    "deletable": true,
    "editable": true
   },
   "outputs": [],
   "source": [
    "from astropy.coordinates import SkyCoord, Angle\n",
    "import astropy.units as u\n",
    "\n",
    "# Use astropy.coordinates.Angle class to parse the position strings:\n",
    "ra = Angle(result['RA'][0], u.hourangle)\n",
    "dec = Angle(result['DEC'][0], u.degree)\n",
    "\n",
    "# Initialize a astropy.coordinates.SkyCoord object for HD 189733\n",
    "position = SkyCoord(ra=ra, dec=dec)\n",
    "\n",
    "print(position)"
   ]
  },
  {
   "cell_type": "markdown",
   "metadata": {
    "deletable": true,
    "editable": true
   },
   "source": [
    "The default SIMBAD query table includes position and proper motion, but doesn't include the colors and spectral type. You can add custom query parameters if you know their field names, [which are defined here](http://simbad.u-strasbg.fr/simbad/sim-help?Page=sim-fscript#VotableFields):"
   ]
  },
  {
   "cell_type": "code",
   "execution_count": null,
   "metadata": {
    "collapsed": false,
    "deletable": true,
    "editable": true
   },
   "outputs": [],
   "source": [
    "from astroquery.simbad import Simbad\n",
    "\n",
    "# We're going to create a custom instance of the SIMBAD class:\n",
    "s = Simbad()\n",
    "\n",
    "# We're going to add fields to the VOTable for spectral type:\n",
    "s.add_votable_fields('sptype')\n",
    "\n",
    "# ...and for the B and V magnitudes: \n",
    "s.add_votable_fields('flux(B)')\n",
    "s.add_votable_fields('flux(V)')\n",
    "\n",
    "# Now let's query for the object on our new SIMBAD instance:\n",
    "result = s.query_object(identifier)\n",
    "result"
   ]
  },
  {
   "cell_type": "markdown",
   "metadata": {
    "deletable": true,
    "editable": true
   },
   "source": [
    "The properties we requested are listed in the columns `SP_TYPE`, `FLUX_B` and `FLUX_V`."
   ]
  },
  {
   "cell_type": "code",
   "execution_count": null,
   "metadata": {
    "collapsed": false,
    "deletable": true,
    "editable": true
   },
   "outputs": [],
   "source": [
    "sptype = result['SP_TYPE'][0].decode()\n",
    "b = result['FLUX_B'][0]\n",
    "v = result['FLUX_V'][0]\n",
    "\n",
    "print(\"Spectral type: {0}\".format(sptype))\n",
    "print(\"B = {0}\".format(b))\n",
    "print(\"V = {0}\".format(v))"
   ]
  },
  {
   "cell_type": "markdown",
   "metadata": {
    "deletable": true,
    "editable": true
   },
   "source": [
    "### Vizier: [`astroquery.vizier`](http://astroquery.readthedocs.io/en/latest/vizier/vizier.html)<a id='vizier'></a>\n",
    "\n",
    "Let's query Vizier for the famous list of standard stars from [Landolt (1992)](http://adsabs.harvard.edu/abs/1992AJ....104..340L). The [`Table`](http://astropy.readthedocs.io/en/latest/table/) that is returned to you will have the same information as [this Vizier query page](http://vizier.u-strasbg.fr/viz-bin/VizieR-3?-source=II/183A/table2)."
   ]
  },
  {
   "cell_type": "code",
   "execution_count": null,
   "metadata": {
    "collapsed": false,
    "deletable": true,
    "editable": true
   },
   "outputs": [],
   "source": [
    "from astroquery.vizier import Vizier\n",
    "\n",
    "# Generic search using author and year format:\n",
    "table_list = Vizier.get_catalogs('Landolt 1992')\n",
    "\n",
    "table_list"
   ]
  },
  {
   "cell_type": "markdown",
   "metadata": {
    "deletable": true,
    "editable": true
   },
   "source": [
    "What gets returned is a `TableList` object, containing all of the tables that matched our (vague) query. You can see that astroquery will return the first 50 rows of each table by default. "
   ]
  },
  {
   "cell_type": "markdown",
   "metadata": {
    "deletable": true,
    "editable": true
   },
   "source": [
    "You could also search for a specific table by its catalog identifier, which is \"II/183A/table2\" for this table. We could have searched via catalog ID like this: "
   ]
  },
  {
   "cell_type": "code",
   "execution_count": null,
   "metadata": {
    "collapsed": false,
    "deletable": true,
    "editable": true
   },
   "outputs": [],
   "source": [
    "identifier = 'II/183A/table2'\n",
    "\n",
    "Vizier.get_catalogs(catalog=identifier)"
   ]
  },
  {
   "cell_type": "markdown",
   "metadata": {
    "deletable": true,
    "editable": true
   },
   "source": [
    "There's only one table this time, because this identifier is unique. Now let's get all rows of the table, instead of the first 50: "
   ]
  },
  {
   "cell_type": "code",
   "execution_count": null,
   "metadata": {
    "collapsed": false,
    "deletable": true,
    "editable": true
   },
   "outputs": [],
   "source": [
    "# Set the row limit to a very large number:\n",
    "Vizier.ROW_LIMIT = 1e10\n",
    "\n",
    "# Get the first table:\n",
    "result = Vizier.get_catalogs(catalog=identifier)[0]\n",
    "\n",
    "result"
   ]
  },
  {
   "cell_type": "markdown",
   "metadata": {
    "deletable": true,
    "editable": true
   },
   "source": [
    "This returns all 526 standard stars in the table. Let's see the distribution of colors, and the distribution on the sky:"
   ]
  },
  {
   "cell_type": "code",
   "execution_count": null,
   "metadata": {
    "collapsed": false,
    "deletable": true,
    "editable": true
   },
   "outputs": [],
   "source": [
    "import numpy as np\n",
    "\n",
    "fig = plt.figure(figsize=(12, 5))\n",
    "ax0 = fig.add_subplot(121)\n",
    "ax1 = fig.add_subplot(122, projection='hammer')\n",
    "\n",
    "# Plot histogram of B-V colors\n",
    "ax0.hist(result['B-V'])\n",
    "ax0.set_xlabel('$B-V$')\n",
    "ax0.set_aspect(1e-2)\n",
    "\n",
    "# Plot sky positions\n",
    "ra = Angle(result['RAJ2000'], u.hourangle).wrap_at(np.pi*u.rad)\n",
    "dec = Angle(result['DEJ2000'], u.degree)\n",
    "ax1.scatter(ra.radian, dec.radian, marker='.')\n",
    "ax1.grid()\n",
    "plt.show()"
   ]
  },
  {
   "cell_type": "markdown",
   "metadata": {
    "collapsed": true,
    "deletable": true,
    "editable": true
   },
   "source": [
    "<br />\n",
    "*** \n",
    "<br />\n",
    "\n",
    "# [`astroplan`](https://astroplan.readthedocs.org/en/latest/) <a id='astroplan'></a>\n",
    "\n",
    "\n",
    "`astroplan` is an `astropy`-affiliated package that helps you calculate when objects are observable from observatories on the Earth (Morris et al. 2017, submitted).\n",
    "\n",
    "### Intro to astroplan <a id='introastroplan'></a>\n",
    "\n",
    "You can describe an observatory using the [`Observer`](https://astroplan.readthedocs.io/en/latest/api/astroplan.Observer.html#astroplan.Observer) object, which knows about famous observatories:"
   ]
  },
  {
   "cell_type": "code",
   "execution_count": null,
   "metadata": {
    "collapsed": false,
    "deletable": true,
    "editable": true
   },
   "outputs": [],
   "source": [
    "from astroplan import Observer\n",
    "\n",
    "# Use the `at_site` method to access famous observatories\n",
    "salt = Observer.at_site('SALT')\n",
    "keck = Observer.at_site('Keck')\n",
    "\n",
    "from astropy.coordinates import EarthLocation\n",
    "print(\"Available observatories: \\n\\n{0}\"\n",
    "      .format(', '.join(EarthLocation.get_site_names())))"
   ]
  },
  {
   "cell_type": "markdown",
   "metadata": {
    "deletable": true,
    "editable": true
   },
   "source": [
    "You can also specify observatories not included in the database using an [`EarthLocation`](http://docs.astropy.org/en/stable/api/astropy.coordinates.EarthLocation.html) object:"
   ]
  },
  {
   "cell_type": "code",
   "execution_count": null,
   "metadata": {
    "collapsed": false,
    "deletable": true,
    "editable": true
   },
   "outputs": [],
   "source": [
    "from astropy.coordinates import EarthLocation\n",
    "\n",
    "latitude = -33.9249*u.deg\n",
    "longitude = 18.4241*u.deg\n",
    "elevation = 0*u.m\n",
    "\n",
    "# Specify the location of Cape Town:\n",
    "location = EarthLocation.from_geodetic(longitude, latitude, elevation)\n",
    "\n",
    "# Make an observer at Cape Town:\n",
    "cape_town = Observer(location=location, pressure=1*u.bar, temperature=20*u.deg_C)\n",
    "\n",
    "cape_town"
   ]
  },
  {
   "cell_type": "markdown",
   "metadata": {
    "deletable": true,
    "editable": true
   },
   "source": [
    "The pressure and temperature will be used in calculations for atmospheric refraction when computing the altitude and azimuth of targets.\n",
    "\n",
    "We define a target in the sky with a `FixedTarget` object, which simply contains a `SkyCoord` and a name:"
   ]
  },
  {
   "cell_type": "code",
   "execution_count": null,
   "metadata": {
    "collapsed": true,
    "deletable": true,
    "editable": true
   },
   "outputs": [],
   "source": [
    "from astroplan import FixedTarget\n",
    "from astropy.coordinates import SkyCoord\n",
    "\n",
    "coord = SkyCoord(ra='14h29m42.94853s', dec='-62d40m46.1631s', \n",
    "                 distance=4.224*u.lightyear)\n",
    "proxima = FixedTarget(coord=coord, name='Proxima Cen')"
   ]
  },
  {
   "cell_type": "markdown",
   "metadata": {
    "deletable": true,
    "editable": true
   },
   "source": [
    "We can use the `from_name` method to grab targets with their identifier, resolved via [Sesame](http://cds.u-strasbg.fr/cgi-bin/Sesame):"
   ]
  },
  {
   "cell_type": "code",
   "execution_count": null,
   "metadata": {
    "collapsed": false,
    "deletable": true,
    "editable": true
   },
   "outputs": [],
   "source": [
    "# Targets are stored as `astroplan.FixedTarget` objects\n",
    "target_names = ['Proxima', 'LMC', 'SMC', 'alpha Mensa', 'Polaris']\n",
    "targets = [FixedTarget.from_name(target) for target in target_names]"
   ]
  },
  {
   "cell_type": "markdown",
   "metadata": {
    "deletable": true,
    "editable": true
   },
   "source": [
    "Let's see which of these targets is \"up\" ($>0^\\circ$ altitude) now:"
   ]
  },
  {
   "cell_type": "code",
   "execution_count": null,
   "metadata": {
    "collapsed": false,
    "deletable": true,
    "editable": true
   },
   "outputs": [],
   "source": [
    "from astropy.time import Time\n",
    "\n",
    "# Which targets are visible right now?\n",
    "cape_town.target_is_up(Time.now(), targets)"
   ]
  },
  {
   "cell_type": "markdown",
   "metadata": {
    "deletable": true,
    "editable": true
   },
   "source": [
    "The circumpolar souther stars are up, and the circumpolar northern stars are not up.\n",
    "\n",
    "<br />\n",
    "*** \n",
    "<br />\n",
    "\n",
    "### [Constraints](http://astroplan.readthedocs.io/en/latest/tutorials/constraints.html) <a id='constraints'></a>\n",
    "\n",
    "Often you will need to plan observations given various constraints, for example, you might need to observe: \n",
    "* Between civil twilights (sun at $<-6^\\circ$ altitude)\n",
    "* The target altitude must be $20^\\circ < $alt$ < 85^\\circ$ (or similar pointing limits for your telescope)\n",
    "* The target is separated from the moon by at least $50^\\circ$\n",
    "\n",
    "`astroplan` provides a framework for defining these observing constraints, and computing whether or not targets are observable given those constraints. Let's implement the above list of constraints: "
   ]
  },
  {
   "cell_type": "code",
   "execution_count": null,
   "metadata": {
    "collapsed": false,
    "deletable": true,
    "editable": true
   },
   "outputs": [],
   "source": [
    "from astroplan import (AtNightConstraint, AltitudeConstraint, \n",
    "                       MoonSeparationConstraint, MoonIlluminationConstraint)\n",
    "\n",
    "constraints = [AtNightConstraint.twilight_civil(),\n",
    "               AltitudeConstraint(min=20*u.deg, max=85*u.deg), \n",
    "               MoonSeparationConstraint(min=2*u.deg)]"
   ]
  },
  {
   "cell_type": "code",
   "execution_count": null,
   "metadata": {
    "collapsed": true,
    "deletable": true,
    "editable": true
   },
   "outputs": [],
   "source": [
    "def plot_constraints(observability_grid, constraints, time_grid, name):\n",
    "    \"\"\"\n",
    "    Plot some constraints in a grid!\n",
    "    \"\"\"\n",
    "    extent = [-0.5, -0.5+len(time_grid), -0.5,  -0.5+len(constraints)]\n",
    "\n",
    "    fig, ax = plt.subplots()\n",
    "    ax.imshow(observability_grid, extent=extent)\n",
    "\n",
    "    ax.set_yticks(range(0, len(constraints)))\n",
    "    ax.set_yticklabels([c.__class__.__name__ for c in constraints])\n",
    "\n",
    "    ax.set_xticks(range(len(time_grid)))\n",
    "    ax.set_xticklabels([t.datetime.strftime(\"%H:%M\") for t in time_grid])\n",
    "\n",
    "    ax.set_xticks(np.arange(extent[0], extent[1]), minor=True)\n",
    "    ax.set_yticks(np.arange(extent[2], extent[3]), minor=True)\n",
    "\n",
    "    ax.grid(which='minor', color='w', linestyle='-', linewidth=2)\n",
    "    ax.tick_params(axis='x', which='minor', bottom='off')\n",
    "    plt.setp(ax.get_xticklabels(), rotation=30, ha='right')\n",
    "\n",
    "    ax.tick_params(axis='y', which='minor', left='off')\n",
    "    ax.set_xlabel('Time on {0} UTC'.format(time_grid[0].datetime.date()))\n",
    "    ax.set_title(name)\n",
    "    fig.subplots_adjust(left=0.35, right=0.9, top=0.9, bottom=0.1)\n",
    "    return fig, ax"
   ]
  },
  {
   "cell_type": "code",
   "execution_count": null,
   "metadata": {
    "collapsed": false,
    "deletable": true,
    "editable": true
   },
   "outputs": [],
   "source": [
    "from astroplan.utils import time_grid_from_range\n",
    "\n",
    "# Define range of times to observe between\n",
    "start_time = Time('2017-11-14 22:00:01')\n",
    "end_time = Time('2017-11-15 04:00:01')\n",
    "time_resolution = 1 * u.hour\n",
    "\n",
    "# Create grid of times from ``start_time`` to ``end_time``\n",
    "# with resolution ``time_resolution``\n",
    "time_grid = time_grid_from_range([start_time, end_time],\n",
    "                                 time_resolution=time_resolution)\n",
    "\n",
    "for target in targets: \n",
    "    observability_grid = np.zeros((len(constraints), len(time_grid)))\n",
    "\n",
    "    for i, constraint in enumerate(constraints):\n",
    "        # Evaluate each constraint\n",
    "        observability_grid[i, :] = constraint(cape_town, target, times=time_grid)\n",
    "    \n",
    "    plot_constraints(observability_grid, constraints, time_grid, target.name)"
   ]
  },
  {
   "cell_type": "markdown",
   "metadata": {
    "deletable": true,
    "editable": true
   },
   "source": [
    "In the above plot, grid squares that are purple represent times and constraints for which the target is observable, yellow is not observabable.\n",
    "\n",
    "Another way to visualize whether or not a target meets the constraints is with the `observability_table` function:"
   ]
  },
  {
   "cell_type": "code",
   "execution_count": null,
   "metadata": {
    "collapsed": false,
    "deletable": true,
    "editable": true
   },
   "outputs": [],
   "source": [
    "from astroplan import observability_table\n",
    "observability_table(constraints, cape_town, targets, times=time_grid)"
   ]
  },
  {
   "cell_type": "markdown",
   "metadata": {
    "deletable": true,
    "editable": true
   },
   "source": [
    "### Plots <a id='plots'></a>\n",
    "\n",
    "Let's track that target's motion through the sky for the next ten hours in a plot: "
   ]
  },
  {
   "cell_type": "code",
   "execution_count": null,
   "metadata": {
    "collapsed": false,
    "deletable": true,
    "editable": true
   },
   "outputs": [],
   "source": [
    "from astroplan.plots import plot_sky\n",
    "\n",
    "# Plot at times: \n",
    "plot_times = Time.now() + np.linspace(0, 10, 10)*u.hour\n",
    "\n",
    "for target in targets:\n",
    "    plot_sky(target, cape_town, plot_times)\n",
    "plt.legend(loc=[1.2, 0])"
   ]
  },
  {
   "cell_type": "markdown",
   "metadata": {
    "deletable": true,
    "editable": true
   },
   "source": [
    "Perhaps you need to make a finder chart to help you find Proxima:"
   ]
  },
  {
   "cell_type": "code",
   "execution_count": null,
   "metadata": {
    "collapsed": false,
    "deletable": true,
    "editable": true
   },
   "outputs": [],
   "source": [
    "from astroplan.plots import plot_finder_image\n",
    "\n",
    "plot_finder_image(targets[0], fov_radius=5*u.arcmin, \n",
    "                  reticle=True, survey='2MASS-K')"
   ]
  },
  {
   "cell_type": "code",
   "execution_count": null,
   "metadata": {
    "collapsed": true,
    "deletable": true,
    "editable": true
   },
   "outputs": [],
   "source": []
  }
 ],
 "metadata": {
  "kernelspec": {
   "display_name": "Python 3",
   "language": "python",
   "name": "python3"
  },
  "language_info": {
   "codemirror_mode": {
    "name": "ipython",
    "version": 3
   },
   "file_extension": ".py",
   "mimetype": "text/x-python",
   "name": "python",
   "nbconvert_exporter": "python",
   "pygments_lexer": "ipython3",
   "version": "3.5.4"
  }
 },
 "nbformat": 4,
 "nbformat_minor": 0
}
