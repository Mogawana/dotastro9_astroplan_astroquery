{
 "cells": [
  {
   "cell_type": "markdown",
   "metadata": {
    "deletable": true,
    "editable": true
   },
   "source": [
    "# Astropy Affiliated Packages: [`astroquery`](https://astroquery.readthedocs.io) and [`astroplan`](https://astroplan.readthedocs.io/en/latest/)\n",
    "<br /><br />\n",
    "\n",
    "![astropy logo](http://astropy.readthedocs.org/en/stable/_images/astropy_banner.svg)\n",
    "\n",
    "<br /><br />\n",
    "\n",
    "## Table of contents\n",
    "* [astroquery](#astroquery)\n",
    "  * [SIMBAD queries](#simbad)\n",
    "  * [Vizier queries](#vizier)\n",
    "* [astroplan](#astroplan)\n",
    "  * [Intro to astroplan](#introastroplan)\n",
    "  * [Constraints](#constraints)\n",
    "\n",
    "\n",
    "<br /><br />\n",
    "\n",
    "#### What is an [affiliated package](http://www.astropy.org/affiliated/)?\n",
    "\n",
    "From the astropy webpage: \n",
    "\n",
    "> A major part of the Astropy Project is the concept of “Affiliated Packages”... These packages demonstrate a commitment to Astropy’s goals of **improving reuse, interoperability, and interface standards** for Python astronomy and astrophysics packages. \n",
    "\n",
    "Astropy's goal is to be a core package for astronomy in Python. Affiliated packages extend the reach of astropy into specific niches not already supported by astropy. \n",
    "\n",
    "#### Abbreviated package census\n",
    "are too many affiliated pacakges to go over them all in my 20 minute slot, so I'm going to focus on two in this talk. But be sure to check out these others: \n",
    "\n",
    "* Cosmic ray detection in images [astroscrappy](https://github.com/astropy/astroscrappy)\n",
    "* CCD data processing with [ccdproc](https://github.com/astropy/ccdproc)\n",
    "* Linked data visualization with [glue](https://github.com/glue-viz/glue)\n",
    "* Photometry tools from [photutils](https://github.com/astropy/photutils.git)\n",
    "* Astronomical image reprojection with [reproject](https://github.com/astrofrog/reproject)\n",
    "\n",
    "...and more! See a complete list of affiliated packages [here](http://www.astropy.org/affiliated/).\n",
    "\n",
    "#### Starting your own affiliated package\n",
    "\n",
    "If you'd like to make your own package astropy affiliated, you can quickly make your pacakge conform to the astropy affiliated package standards by using the [package-template](https://github.com/astropy/package-template), which sets your package up for testing and documentation.\n",
    "\n",
    "***\n",
    "\n",
    "\n",
    "# [`astroquery`](https://astroquery.readthedocs.io) <a id='astroquery'></a>\n",
    "\n",
    "\n",
    "\n",
    "`astroquery` allows you to query astronomical databases with ease. \n",
    "\n",
    "### SIMBAD: [`astroquery.simbad`](http://astroquery.readthedocs.io/en/latest/simbad/simbad.html)<a id='simbad'></a>\n",
    "\n",
    "\n",
    "Suppose you're about to observe the exoplanet host star HD 189733, and you'd like to know its: \n",
    "\n",
    "* position\n",
    "* $B$ and $V$ colors\n",
    "* spectral type\n",
    "\n",
    "All of this information is easily accessible via the [SIMBAD Astronomical Database](http://simbad.u-strasbg.fr).\n",
    "\n",
    "Let's query for the SIMBAD for this object (a star):"
   ]
  },
  {
   "cell_type": "code",
   "execution_count": 16,
   "metadata": {
    "collapsed": false,
    "deletable": true,
    "editable": true
   },
   "outputs": [
    {
     "data": {
      "text/html": [
       "&lt;Table masked=True length=1&gt;\n",
       "<table id=\"table4570212616\" class=\"table-striped table-bordered table-condensed\">\n",
       "<thead><tr><th>MAIN_ID</th><th>RA</th><th>DEC</th><th>RA_PREC</th><th>DEC_PREC</th><th>COO_ERR_MAJA</th><th>COO_ERR_MINA</th><th>COO_ERR_ANGLE</th><th>COO_QUAL</th><th>COO_WAVELENGTH</th><th>COO_BIBCODE</th></tr></thead>\n",
       "<thead><tr><th></th><th>&quot;h:m:s&quot;</th><th>&quot;d:m:s&quot;</th><th></th><th></th><th>mas</th><th>mas</th><th>deg</th><th></th><th></th><th></th></tr></thead>\n",
       "<thead><tr><th>object</th><th>str13</th><th>str13</th><th>int16</th><th>int16</th><th>float32</th><th>float32</th><th>int16</th><th>str1</th><th>str1</th><th>object</th></tr></thead>\n",
       "<tr><td>HD 189773</td><td>20 05 10.8954</td><td>-61 30 25.967</td><td>8</td><td>8</td><td>62.600</td><td>55.680</td><td>90</td><td>B</td><td></td><td>1998A&amp;A...335L..65H</td></tr>\n",
       "</table>"
      ],
      "text/plain": [
       "<Table masked=True length=1>\n",
       " MAIN_ID        RA           DEC      ... COO_WAVELENGTH     COO_BIBCODE    \n",
       "             \"h:m:s\"       \"d:m:s\"    ...                                   \n",
       "  object      str13         str13     ...      str1             object      \n",
       "--------- ------------- ------------- ... -------------- -------------------\n",
       "HD 189773 20 05 10.8954 -61 30 25.967 ...                1998A&A...335L..65H"
      ]
     },
     "execution_count": 16,
     "metadata": {},
     "output_type": "execute_result"
    }
   ],
   "source": [
    "from astroquery.simbad import Simbad\n",
    "\n",
    "identifier = 'HD 189773'\n",
    "\n",
    "result = Simbad.query_object(identifier)\n",
    "result"
   ]
  },
  {
   "cell_type": "markdown",
   "metadata": {
    "deletable": true,
    "editable": true
   },
   "source": [
    "You can see that some basic information is returned in an [`Table`](http://docs.astropy.org/en/stable/table/) object. We can create an [`SkyCoord`](http://docs.astropy.org/en/stable/api/astropy.coordinates.SkyCoord.html#astropy.coordinates.SkyCoord) object to describe its position by accessing the `ra` and `dec` columns:"
   ]
  },
  {
   "cell_type": "code",
   "execution_count": 14,
   "metadata": {
    "collapsed": false,
    "deletable": true,
    "editable": true
   },
   "outputs": [
    {
     "name": "stdout",
     "output_type": "stream",
     "text": [
      "<SkyCoord (ICRS): (ra, dec) in deg\n",
      "    ( 301.2953975, -61.50721306)>\n"
     ]
    }
   ],
   "source": [
    "from astropy.coordinates import SkyCoord, Angle\n",
    "import astropy.units as u\n",
    "\n",
    "# Use astropy.coordinates.Angle class to parse the position strings:\n",
    "ra = Angle(result['RA'][0], u.hourangle)\n",
    "dec = Angle(result['DEC'][0], u.degree)\n",
    "\n",
    "# Initialize a astropy.coordinates.SkyCoord object for HD 189733\n",
    "position = SkyCoord(ra=ra, dec=dec)\n",
    "\n",
    "print(position)"
   ]
  },
  {
   "cell_type": "markdown",
   "metadata": {
    "deletable": true,
    "editable": true
   },
   "source": [
    "The default SIMBAD query table includes position and proper motion, but doesn't include the colors and spectral type. You can add custom query parameters if you know their field names, [which are defined here](http://simbad.u-strasbg.fr/simbad/sim-help?Page=sim-fscript#VotableFields):"
   ]
  },
  {
   "cell_type": "code",
   "execution_count": 19,
   "metadata": {
    "collapsed": false,
    "deletable": true,
    "editable": true
   },
   "outputs": [
    {
     "data": {
      "text/html": [
       "&lt;Table masked=True length=1&gt;\n",
       "<table id=\"table4569280920\" class=\"table-striped table-bordered table-condensed\">\n",
       "<thead><tr><th>MAIN_ID</th><th>RA</th><th>DEC</th><th>RA_PREC</th><th>DEC_PREC</th><th>COO_ERR_MAJA</th><th>COO_ERR_MINA</th><th>COO_ERR_ANGLE</th><th>COO_QUAL</th><th>COO_WAVELENGTH</th><th>COO_BIBCODE</th><th>SP_TYPE</th><th>SP_QUAL</th><th>SP_BIBCODE</th><th>FLUX_B</th><th>FLUX_V</th></tr></thead>\n",
       "<thead><tr><th></th><th>&quot;h:m:s&quot;</th><th>&quot;d:m:s&quot;</th><th></th><th></th><th>mas</th><th>mas</th><th>deg</th><th></th><th></th><th></th><th></th><th></th><th></th><th>mag</th><th>mag</th></tr></thead>\n",
       "<thead><tr><th>object</th><th>str13</th><th>str13</th><th>int16</th><th>int16</th><th>float32</th><th>float32</th><th>int16</th><th>str1</th><th>str1</th><th>object</th><th>object</th><th>str1</th><th>object</th><th>float32</th><th>float32</th></tr></thead>\n",
       "<tr><td>HD 189773</td><td>20 05 10.8954</td><td>-61 30 25.967</td><td>8</td><td>8</td><td>62.600</td><td>55.680</td><td>90</td><td>B</td><td></td><td>1998A&amp;A...335L..65H</td><td>K0/1III</td><td>D</td><td>1975MSS...C01....0H</td><td>11.01</td><td>9.75</td></tr>\n",
       "</table>"
      ],
      "text/plain": [
       "<Table masked=True length=1>\n",
       " MAIN_ID        RA           DEC      ...      SP_BIBCODE      FLUX_B  FLUX_V\n",
       "             \"h:m:s\"       \"d:m:s\"    ...                       mag     mag  \n",
       "  object      str13         str13     ...        object       float32 float32\n",
       "--------- ------------- ------------- ... ------------------- ------- -------\n",
       "HD 189773 20 05 10.8954 -61 30 25.967 ... 1975MSS...C01....0H   11.01    9.75"
      ]
     },
     "execution_count": 19,
     "metadata": {},
     "output_type": "execute_result"
    }
   ],
   "source": [
    "from astroquery.simbad import Simbad\n",
    "\n",
    "# We're going to create a custom instance of the SIMBAD class:\n",
    "s = Simbad()\n",
    "\n",
    "# We're going to add fields to the VOTable for spectral type:\n",
    "s.add_votable_fields('sptype')\n",
    "\n",
    "# ...and for the B and V magnitudes: \n",
    "s.add_votable_fields('flux(B)')\n",
    "s.add_votable_fields('flux(V)')\n",
    "\n",
    "# Now let's query for the object on our new SIMBAD instance:\n",
    "result = s.query_object(identifier)\n",
    "result"
   ]
  },
  {
   "cell_type": "markdown",
   "metadata": {
    "deletable": true,
    "editable": true
   },
   "source": [
    "The properties we requested are listed in the columns `SP_TYPE`, `FLUX_B` and `FLUX_V`."
   ]
  },
  {
   "cell_type": "code",
   "execution_count": 26,
   "metadata": {
    "collapsed": false,
    "deletable": true,
    "editable": true
   },
   "outputs": [
    {
     "name": "stdout",
     "output_type": "stream",
     "text": [
      "Spectral type: K0/1III\n",
      "B = 11.010000228881836\n",
      "V = 9.75\n"
     ]
    }
   ],
   "source": [
    "sptype = result['SP_TYPE'][0].decode()\n",
    "b = result['FLUX_B'][0]\n",
    "v = result['FLUX_V'][0]\n",
    "\n",
    "print(\"Spectral type: {0}\".format(sptype))\n",
    "print(\"B = {0}\".format(b))\n",
    "print(\"V = {0}\".format(v))"
   ]
  },
  {
   "cell_type": "markdown",
   "metadata": {
    "deletable": true,
    "editable": true
   },
   "source": [
    "### Vizier: [`astroquery.vizier`](http://astroquery.readthedocs.io/en/latest/vizier/vizier.html)<a id='vizier'></a>\n",
    "\n",
    "Let's query Vizier for the famous list of standard stars from [Landolt (1992)](http://adsabs.harvard.edu/abs/1992AJ....104..340L). The [`Table`](http://astropy.readthedocs.io/en/latest/table/) that is returned to you will have the same information as [this Vizier query page](http://vizier.u-strasbg.fr/viz-bin/VizieR-3?-source=II/183A/table2)."
   ]
  },
  {
   "cell_type": "code",
   "execution_count": 30,
   "metadata": {
    "collapsed": false,
    "deletable": true,
    "editable": true
   },
   "outputs": [
    {
     "data": {
      "text/plain": [
       "TableList with 3 tables:\n",
       "\t'0:II/183A/table2' with 15 column(s) and 50 row(s) \n",
       "\t'1:II/183A/filters' with 6 column(s) and 50 row(s) \n",
       "\t'2:II/183A/table11' with 3 column(s) and 50 row(s) "
      ]
     },
     "execution_count": 30,
     "metadata": {},
     "output_type": "execute_result"
    }
   ],
   "source": [
    "from astroquery.vizier import Vizier\n",
    "\n",
    "# Generic search using author and year format:\n",
    "table_list = Vizier.get_catalogs('Landolt 1992')\n",
    "\n",
    "table_list"
   ]
  },
  {
   "cell_type": "markdown",
   "metadata": {
    "deletable": true,
    "editable": true
   },
   "source": [
    "What gets returned is a `TableList` object, containing all of the tables that matched our (vague) query. You can see that astroquery will return the first 50 rows of each table by default. "
   ]
  },
  {
   "cell_type": "markdown",
   "metadata": {
    "deletable": true,
    "editable": true
   },
   "source": [
    "You could also search for a specific table by its catalog identifier, which is \"II/183A/table2\" for this table. We could have searched via catalog ID like this: "
   ]
  },
  {
   "cell_type": "code",
   "execution_count": 28,
   "metadata": {
    "collapsed": false,
    "deletable": true,
    "editable": true
   },
   "outputs": [
    {
     "data": {
      "text/plain": [
       "TableList with 1 tables:\n",
       "\t'0:II/183A/table2' with 15 column(s) and 50 row(s) "
      ]
     },
     "execution_count": 28,
     "metadata": {},
     "output_type": "execute_result"
    }
   ],
   "source": [
    "identifier = 'II/183A/table2'\n",
    "\n",
    "Vizier.get_catalogs(catalog=identifier)"
   ]
  },
  {
   "cell_type": "markdown",
   "metadata": {
    "deletable": true,
    "editable": true
   },
   "source": [
    "There's only one table this time, because this identifier is unique. Now let's get all rows of the table, instead of the first 50: "
   ]
  },
  {
   "cell_type": "code",
   "execution_count": 31,
   "metadata": {
    "collapsed": false,
    "deletable": true,
    "editable": true
   },
   "outputs": [
    {
     "data": {
      "text/html": [
       "&lt;Table masked=True length=526&gt;\n",
       "<table id=\"table4570926552\" class=\"table-striped table-bordered table-condensed\">\n",
       "<thead><tr><th>RAJ2000</th><th>DEJ2000</th><th>Vmag</th><th>e_Vmag</th><th>B-V</th><th>e_B-V</th><th>U-B</th><th>e_U-B</th><th>V-R</th><th>e_V-R</th><th>R-I</th><th>e_R-I</th><th>V-I</th><th>e_V-I</th><th>SimbadName</th></tr></thead>\n",
       "<thead><tr><th>&quot;h:m:s&quot;</th><th>&quot;d:m:s&quot;</th><th>mag</th><th>mag</th><th>mag</th><th>mag</th><th>mag</th><th>mag</th><th>mag</th><th>mag</th><th>mag</th><th>mag</th><th>mag</th><th>mag</th><th></th></tr></thead>\n",
       "<thead><tr><th>bytes8</th><th>bytes9</th><th>float32</th><th>float32</th><th>float32</th><th>float32</th><th>float32</th><th>float32</th><th>float32</th><th>float32</th><th>float32</th><th>float32</th><th>float32</th><th>float32</th><th>bytes18</th></tr></thead>\n",
       "<tr><td>00 30 09</td><td>-46 31 22</td><td>14.651</td><td>0.0028</td><td>0.793</td><td>0.0046</td><td>0.380</td><td>0.0071</td><td>0.435</td><td>0.0019</td><td>0.405</td><td>0.0035</td><td>0.841</td><td>0.0032</td><td>[L92b] TPHE A</td></tr>\n",
       "<tr><td>00 30 16</td><td>-46 27 55</td><td>12.334</td><td>0.0115</td><td>0.405</td><td>0.0026</td><td>0.156</td><td>0.0039</td><td>0.262</td><td>0.0020</td><td>0.271</td><td>0.0019</td><td>0.535</td><td>0.0035</td><td>[L92b] TPHE B</td></tr>\n",
       "<tr><td>00 30 17</td><td>-46 32 34</td><td>14.376</td><td>0.0022</td><td>-0.298</td><td>0.0024</td><td>-1.217</td><td>0.0043</td><td>-0.148</td><td>0.0038</td><td>-0.211</td><td>0.0133</td><td>-0.360</td><td>0.0149</td><td>[L92b] TPHE C</td></tr>\n",
       "<tr><td>00 30 18</td><td>-46 31 11</td><td>13.118</td><td>0.0033</td><td>1.551</td><td>0.0030</td><td>1.871</td><td>0.0118</td><td>0.849</td><td>0.0015</td><td>0.810</td><td>0.0023</td><td>1.663</td><td>0.0030</td><td>[L92b] TPHE D</td></tr>\n",
       "<tr><td>00 30 19</td><td>-46 24 36</td><td>11.630</td><td>0.0017</td><td>0.443</td><td>0.0012</td><td>-0.103</td><td>0.0024</td><td>0.276</td><td>0.0007</td><td>0.283</td><td>0.0015</td><td>0.564</td><td>0.0019</td><td>[L92b] TPHE E</td></tr>\n",
       "<tr><td>00 30 50</td><td>-46 33 33</td><td>12.474</td><td>0.0004</td><td>0.855</td><td>0.0058</td><td>0.532</td><td>0.0161</td><td>0.492</td><td>0.0004</td><td>0.435</td><td>0.0040</td><td>0.926</td><td>0.0036</td><td>[L92b] TPHE F</td></tr>\n",
       "<tr><td>00 31 05</td><td>-46 22 43</td><td>10.442</td><td>0.0004</td><td>1.546</td><td>0.0013</td><td>1.915</td><td>0.0036</td><td>0.934</td><td>0.0004</td><td>1.085</td><td>0.0009</td><td>2.025</td><td>0.0009</td><td>[L92b] TPHE G</td></tr>\n",
       "<tr><td>00 31 50</td><td>+02 38 26</td><td>15.268</td><td>0.0094</td><td>0.362</td><td>0.0174</td><td>-0.184</td><td>0.0112</td><td>0.251</td><td>0.0161</td><td>0.337</td><td>0.0125</td><td>0.593</td><td>0.0067</td><td>PG0029+024</td></tr>\n",
       "<tr><td>00 42 05</td><td>+05 09 44</td><td>12.877</td><td>0.0020</td><td>-0.019</td><td>0.0030</td><td>-0.871</td><td>0.0055</td><td>0.067</td><td>0.0035</td><td>0.097</td><td>0.0055</td><td>0.164</td><td>0.0045</td><td>PG0039+049</td></tr>\n",
       "<tr><td>...</td><td>...</td><td>...</td><td>...</td><td>...</td><td>...</td><td>...</td><td>...</td><td>...</td><td>...</td><td>...</td><td>...</td><td>...</td><td>...</td><td>...</td></tr>\n",
       "<tr><td>23 38 43</td><td>+00 42 24</td><td>11.277</td><td>0.0007</td><td>0.679</td><td>0.0014</td><td>0.135</td><td>0.0000</td><td>0.398</td><td>0.0000</td><td>0.372</td><td>0.0014</td><td>0.767</td><td>0.0014</td><td>[L92b] PG2336+004A</td></tr>\n",
       "<tr><td>23 38 44</td><td>+00 42 55</td><td>15.899</td><td>0.0113</td><td>-0.172</td><td>0.0099</td><td>-0.781</td><td>0.0007</td><td>-0.061</td><td>0.0092</td><td>-0.048</td><td>0.0127</td><td>-0.110</td><td>0.0226</td><td>PG2336+004</td></tr>\n",
       "<tr><td>23 41 31</td><td>+01 26 26</td><td>11.812</td><td>0.0042</td><td>1.005</td><td>0.0028</td><td>0.548</td><td>0.0028</td><td>0.586</td><td>0.0057</td><td>0.538</td><td>0.0021</td><td>1.127</td><td>0.0028</td><td>SA 115 554</td></tr>\n",
       "<tr><td>23 41 33</td><td>+01 16 45</td><td>12.482</td><td>0.0025</td><td>0.493</td><td>0.0035</td><td>-0.049</td><td>0.0047</td><td>0.298</td><td>0.0020</td><td>0.308</td><td>0.0020</td><td>0.607</td><td>0.0020</td><td>SA 115 486</td></tr>\n",
       "<tr><td>23 42 01</td><td>+01 09 01</td><td>12.209</td><td>0.0021</td><td>0.573</td><td>0.0049</td><td>-0.040</td><td>0.0035</td><td>0.327</td><td>0.0007</td><td>0.335</td><td>0.0021</td><td>0.665</td><td>0.0021</td><td>SA 115 412</td></tr>\n",
       "<tr><td>23 42 30</td><td>+00 52 11</td><td>12.494</td><td>0.0000</td><td>0.634</td><td>0.0000</td><td>0.077</td><td>0.0000</td><td>0.366</td><td>0.0000</td><td>0.348</td><td>0.0000</td><td>0.714</td><td>0.0000</td><td>SA 115 268</td></tr>\n",
       "<tr><td>23 42 36</td><td>+01 05 58</td><td>11.161</td><td>0.0013</td><td>0.468</td><td>0.0011</td><td>-0.027</td><td>0.0020</td><td>0.286</td><td>0.0013</td><td>0.293</td><td>0.0010</td><td>0.580</td><td>0.0015</td><td>SA 115 420</td></tr>\n",
       "<tr><td>23 42 41</td><td>+00 45 10</td><td>9.695</td><td>0.0010</td><td>0.615</td><td>0.0010</td><td>0.101</td><td>0.0014</td><td>0.353</td><td>0.0009</td><td>0.349</td><td>0.0008</td><td>0.701</td><td>0.0011</td><td>SA 115 271</td></tr>\n",
       "<tr><td>23 44 15</td><td>+01 14 13</td><td>10.434</td><td>0.0012</td><td>1.028</td><td>0.0010</td><td>0.759</td><td>0.0019</td><td>0.563</td><td>0.0009</td><td>0.534</td><td>0.0008</td><td>1.098</td><td>0.0010</td><td>SA 115 516</td></tr>\n",
       "<tr><td>23 51 53</td><td>+00 28 17</td><td>13.277</td><td>0.0063</td><td>-0.191</td><td>0.0106</td><td>-0.921</td><td>0.0078</td><td>-0.103</td><td>0.0057</td><td>-0.116</td><td>0.0078</td><td>-0.219</td><td>0.0060</td><td>PG2349+002</td></tr>\n",
       "</table>"
      ],
      "text/plain": [
       "<Table masked=True length=526>\n",
       "RAJ2000   DEJ2000    Vmag   e_Vmag ...   V-I    e_V-I      SimbadName    \n",
       "\"h:m:s\"   \"d:m:s\"    mag     mag   ...   mag     mag                     \n",
       " bytes8    bytes9  float32 float32 ... float32 float32      bytes18      \n",
       "-------- --------- ------- ------- ... ------- ------- ------------------\n",
       "00 30 09 -46 31 22  14.651  0.0028 ...   0.841  0.0032      [L92b] TPHE A\n",
       "00 30 16 -46 27 55  12.334  0.0115 ...   0.535  0.0035      [L92b] TPHE B\n",
       "00 30 17 -46 32 34  14.376  0.0022 ...  -0.360  0.0149      [L92b] TPHE C\n",
       "00 30 18 -46 31 11  13.118  0.0033 ...   1.663  0.0030      [L92b] TPHE D\n",
       "00 30 19 -46 24 36  11.630  0.0017 ...   0.564  0.0019      [L92b] TPHE E\n",
       "00 30 50 -46 33 33  12.474  0.0004 ...   0.926  0.0036      [L92b] TPHE F\n",
       "00 31 05 -46 22 43  10.442  0.0004 ...   2.025  0.0009      [L92b] TPHE G\n",
       "00 31 50 +02 38 26  15.268  0.0094 ...   0.593  0.0067         PG0029+024\n",
       "00 42 05 +05 09 44  12.877  0.0020 ...   0.164  0.0045         PG0039+049\n",
       "     ...       ...     ...     ... ...     ...     ...                ...\n",
       "23 38 43 +00 42 24  11.277  0.0007 ...   0.767  0.0014 [L92b] PG2336+004A\n",
       "23 38 44 +00 42 55  15.899  0.0113 ...  -0.110  0.0226         PG2336+004\n",
       "23 41 31 +01 26 26  11.812  0.0042 ...   1.127  0.0028         SA 115 554\n",
       "23 41 33 +01 16 45  12.482  0.0025 ...   0.607  0.0020         SA 115 486\n",
       "23 42 01 +01 09 01  12.209  0.0021 ...   0.665  0.0021         SA 115 412\n",
       "23 42 30 +00 52 11  12.494  0.0000 ...   0.714  0.0000         SA 115 268\n",
       "23 42 36 +01 05 58  11.161  0.0013 ...   0.580  0.0015         SA 115 420\n",
       "23 42 41 +00 45 10   9.695  0.0010 ...   0.701  0.0011         SA 115 271\n",
       "23 44 15 +01 14 13  10.434  0.0012 ...   1.098  0.0010         SA 115 516\n",
       "23 51 53 +00 28 17  13.277  0.0063 ...  -0.219  0.0060         PG2349+002"
      ]
     },
     "execution_count": 31,
     "metadata": {},
     "output_type": "execute_result"
    }
   ],
   "source": [
    "# Set the row limit to a very large number:\n",
    "Vizier.ROW_LIMIT = 1e10\n",
    "\n",
    "# Get the first table:\n",
    "result = Vizier.get_catalogs(catalog=identifier)[0]\n",
    "\n",
    "result"
   ]
  },
  {
   "cell_type": "markdown",
   "metadata": {
    "deletable": true,
    "editable": true
   },
   "source": [
    "This returns all 526 standard stars in the table. Let's see the distribution of colors, and the distribution on the sky:"
   ]
  },
  {
   "cell_type": "code",
   "execution_count": 77,
   "metadata": {
    "collapsed": false,
    "deletable": true,
    "editable": true
   },
   "outputs": [
    {
     "data": {
      "text/plain": [
       "(array([   7.,    0.,    0.,    0.,    1.,   11.,   23.,  439.,   31.,   14.]),\n",
       " array([-46.55916667, -40.3145    , -34.06983333, -27.82516667,\n",
       "        -21.5805    , -15.33583333,  -9.09116667,  -2.8465    ,\n",
       "          3.39816667,   9.64283333,  15.8875    ]),\n",
       " <a list of 10 Patch objects>)"
      ]
     },
     "execution_count": 77,
     "metadata": {},
     "output_type": "execute_result"
    },
    {
     "data": {
      "image/png": "[encoded data removed]",
      "text/plain": [
       "<matplotlib.figure.Figure at 0x1124ed358>"
      ]
     },
     "metadata": {},
     "output_type": "display_data"
    }
   ],
   "source": [
    "plt.hist(dec.deg)"
   ]
  },
  {
   "cell_type": "code",
   "execution_count": 83,
   "metadata": {
    "collapsed": false,
    "deletable": true,
    "editable": true
   },
   "outputs": [
    {
     "data": {
      "image/png": "[encoded data removed]",
      "text/plain": [
       "<matplotlib.figure.Figure at 0x1118f34a8>"
      ]
     },
     "metadata": {},
     "output_type": "display_data"
    }
   ],
   "source": [
    "%matplotlib inline\n",
    "import matplotlib.pyplot as plt\n",
    "import numpy as np\n",
    "\n",
    "fig = plt.figure(figsize=(12, 5))\n",
    "ax0 = fig.add_subplot(121)\n",
    "ax1 = fig.add_subplot(122, projection='hammer')\n",
    "\n",
    "# Plot histogram of B-V colors\n",
    "ax0.hist(result['B-V'])\n",
    "ax0.set_xlabel('$B-V$')\n",
    "ax0.set_aspect(1e-2)\n",
    "\n",
    "# Plot sky positions\n",
    "ra = Angle(result['RAJ2000'], u.hourangle).wrap_at(np.pi*u.rad)\n",
    "dec = Angle(result['DEJ2000'], u.degree)\n",
    "ax1.scatter(ra.radian, dec.radian, marker='.')\n",
    "ax1.grid()\n",
    "plt.show()"
   ]
  },
  {
   "cell_type": "markdown",
   "metadata": {
    "collapsed": true,
    "deletable": true,
    "editable": true
   },
   "source": [
    "<br />\n",
    "*** \n",
    "<br />\n",
    "\n",
    "# [`astroplan`](https://astroplan.readthedocs.org/en/latest/) <a id='astroplan'></a>\n",
    "\n",
    "\n",
    "`astroplan` is an `astropy`-affiliated package that helps you calculate when objects are observable from observatories on the Earth (Morris et al. 2017, submitted).\n",
    "\n",
    "### Intro to astroplan <a id='introastroplan'></a>\n",
    "\n",
    "You can describe an observatory using the [`Observer`](https://astroplan.readthedocs.io/en/latest/api/astroplan.Observer.html#astroplan.Observer) object, which knows about famous observatories:"
   ]
  },
  {
   "cell_type": "code",
   "execution_count": 90,
   "metadata": {
    "collapsed": false,
    "deletable": true,
    "editable": true
   },
   "outputs": [
    {
     "name": "stdout",
     "output_type": "stream",
     "text": [
      "Available observatories: \n",
      "\n",
      ", , , ALMA, Anglo-Australian Observatory, Apache Point, Apache Point Observatory, Atacama Large Millimeter Array, BAO, Beijing XingLong Observatory, Black Moshannon Observatory, CHARA, Canada-France-Hawaii Telescope, Catalina Observatory, Cerro Pachon, Cerro Paranal, Cerro Tololo, Cerro Tololo Interamerican Observatory, DCT, Discovery Channel Telescope, Dominion Astrophysical Observatory, Gemini South, Hale Telescope, Haleakala Observatories, Happy Jack, Jansky Very Large Array, Keck Observatory, Kitt Peak, Kitt Peak National Observatory, La Silla Observatory, Large Binocular Telescope, Las Campanas Observatory, Lick Observatory, Lowell Observatory, Manastash Ridge Observatory, McDonald Observatory, Medicina, Medicina Dish, Michigan-Dartmouth-MIT Observatory, Mount Graham International Observatory, Mt Graham, Mt. Ekar 182 cm. Telescope, Mt. Stromlo Observatory, Multiple Mirror Telescope, NOV, National Observatory of Venezuela, Noto, Observatorio Astronomico Nacional, San Pedro Martir, Observatorio Astronomico Nacional, Tonantzintla, Palomar, Paranal Observatory, Roque de los Muchachos, SAAO, SALT, SRT, Siding Spring Observatory, Southern African Large Telescope, Subaru, Subaru Telescope, Sutherland, Vainu Bappu Observatory, Very Large Array, W. M. Keck Observatory, Whipple, Whipple Observatory, aao, alma, apo, bmo, cfht, ctio, dao, dct, ekar, example_site, flwo, gemini_north, gemini_south, gemn, gems, greenwich, haleakala, irtf, keck, kpno, lapalma, lasilla, lbt, lco, lick, lowell, mcdonald, mdm, medicina, mmt, mro, mso, mtbigelow, mwo, noto, ohp, paranal, salt, sirene, spm, srt, sso, tona, vbo, vla\n"
     ]
    }
   ],
   "source": [
    "from astroplan import Observer\n",
    "\n",
    "# Use the `at_site` method to access famous observatories\n",
    "salt = Observer.at_site('SALT')\n",
    "keck = Observer.at_site('Keck')\n",
    "\n",
    "from astropy.coordinates import EarthLocation\n",
    "print(\"Available observatories: \\n\\n{0}\"\n",
    "      .format(', '.join(EarthLocation.get_site_names())))"
   ]
  },
  {
   "cell_type": "markdown",
   "metadata": {
    "deletable": true,
    "editable": true
   },
   "source": [
    "You can also specify observatories not included in the database using an [`EarthLocation`](http://docs.astropy.org/en/stable/api/astropy.coordinates.EarthLocation.html) object:"
   ]
  },
  {
   "cell_type": "code",
   "execution_count": 102,
   "metadata": {
    "collapsed": false,
    "deletable": true,
    "editable": true
   },
   "outputs": [
    {
     "data": {
      "text/plain": [
       "<Observer: location (lon, lat, el)=(18.4241 deg, -33.9249 deg, 0.0 m),\n",
       "    timezone=<UTC>,\n",
       "    pressure=<Quantity 1.0 bar>,\n",
       "    temperature=<Quantity 20.0 deg_C>>"
      ]
     },
     "execution_count": 102,
     "metadata": {},
     "output_type": "execute_result"
    }
   ],
   "source": [
    "from astropy.coordinates import EarthLocation\n",
    "\n",
    "latitude = -33.9249*u.deg\n",
    "longitude = 18.4241*u.deg\n",
    "elevation = 0*u.m\n",
    "\n",
    "# Specify the location of Cape Town:\n",
    "location = EarthLocation.from_geodetic(longitude, latitude, elevation)\n",
    "\n",
    "# Make an observer at Cape Town:\n",
    "cape_town = Observer(location=location, pressure=1*u.bar, temperature=20*u.deg_C)\n",
    "\n",
    "cape_town"
   ]
  },
  {
   "cell_type": "markdown",
   "metadata": {
    "deletable": true,
    "editable": true
   },
   "source": [
    "The pressure and temperature will be used in calculations for atmospheric refraction when computing the altitude and azimuth of targets.\n",
    "\n",
    "We define a target in the sky with a `FixedTarget` object, which simply contains a `SkyCoord` and a name:"
   ]
  },
  {
   "cell_type": "code",
   "execution_count": 103,
   "metadata": {
    "collapsed": true,
    "deletable": true,
    "editable": true
   },
   "outputs": [],
   "source": [
    "from astroplan import FixedTarget\n",
    "from astropy.coordinates import SkyCoord\n",
    "\n",
    "coord = SkyCoord(ra='14h29m42.94853s', dec='-62d40m46.1631s', \n",
    "                 distance=4.224*u.lightyear)\n",
    "proxima = FixedTarget(coord=coord, name='Proxima Cen')"
   ]
  },
  {
   "cell_type": "markdown",
   "metadata": {
    "deletable": true,
    "editable": true
   },
   "source": [
    "We can use the `from_name` method to grab targets with their identifier, resolved via [Sesame](http://cds.u-strasbg.fr/cgi-bin/Sesame):"
   ]
  },
  {
   "cell_type": "code",
   "execution_count": 108,
   "metadata": {
    "collapsed": false,
    "deletable": true,
    "editable": true
   },
   "outputs": [],
   "source": [
    "# Targets are stored as `astroplan.FixedTarget` objects\n",
    "target_names = ['Proxima', 'LMC', 'SMC', 'alpha Mensa', 'Polaris']\n",
    "targets = [FixedTarget.from_name(target) for target in target_names]"
   ]
  },
  {
   "cell_type": "markdown",
   "metadata": {
    "deletable": true,
    "editable": true
   },
   "source": [
    "Let's see which of these targets is \"up\" ($>0^\\circ$ altitude) now:"
   ]
  },
  {
   "cell_type": "code",
   "execution_count": 109,
   "metadata": {
    "collapsed": false,
    "deletable": true,
    "editable": true
   },
   "outputs": [
    {
     "data": {
      "text/plain": [
       "array([ True,  True,  True,  True, False], dtype=bool)"
      ]
     },
     "execution_count": 109,
     "metadata": {},
     "output_type": "execute_result"
    }
   ],
   "source": [
    "from astropy.time import Time\n",
    "\n",
    "# Which targets are visible right now?\n",
    "cape_town.target_is_up(Time.now(), targets)"
   ]
  },
  {
   "cell_type": "markdown",
   "metadata": {
    "deletable": true,
    "editable": true
   },
   "source": [
    "Unsurprisingly, the circumpolar souther stars are up, and the circumpolar northern stars are up.\n",
    "\n",
    "<br />\n",
    "*** \n",
    "<br />\n",
    "\n",
    "### [Constraints](http://astroplan.readthedocs.io/en/latest/tutorials/constraints.html) <a id='constraints'></a>\n",
    "\n",
    "Often you will need to plan observations given various constraints, for example, you might need to observe: \n",
    "* Between civil twilights (sun at $<-6^\\circ$ altitude)\n",
    "* The target altitude must be $20^\\circ < $alt$ < 85^\\circ$ (or similar pointing limits for your telescope)\n",
    "* The target is separated from the moon by at least $50^\\circ$\n",
    "\n",
    "`astroplan` provides a framework for defining these observing constraints, and computing whether or not targets are observable given those constraints. Let's implement the above list of constraints: "
   ]
  },
  {
   "cell_type": "code",
   "execution_count": 177,
   "metadata": {
    "collapsed": false,
    "deletable": true,
    "editable": true
   },
   "outputs": [],
   "source": [
    "from astroplan import (AtNightConstraint, AltitudeConstraint, \n",
    "                       MoonSeparationConstraint, MoonIlluminationConstraint)\n",
    "\n",
    "constraints = [AtNightConstraint.twilight_civil(),\n",
    "               AltitudeConstraint(min=20*u.deg, max=85*u.deg), \n",
    "               MoonSeparationConstraint(min=2*u.deg)]"
   ]
  },
  {
   "cell_type": "code",
   "execution_count": 178,
   "metadata": {
    "collapsed": true,
    "deletable": true,
    "editable": true
   },
   "outputs": [],
   "source": [
    "def plot_constraints(observability_grid, constraints, time_grid, name):\n",
    "    \"\"\"\n",
    "    Plot some constraints in a grid!\n",
    "    \"\"\"\n",
    "    extent = [-0.5, -0.5+len(time_grid), -0.5,  -0.5+len(constraints)]\n",
    "\n",
    "    fig, ax = plt.subplots()\n",
    "    ax.imshow(observability_grid, extent=extent)\n",
    "\n",
    "    ax.set_yticks(range(0, len(constraints)))\n",
    "    ax.set_yticklabels([c.__class__.__name__ for c in constraints])\n",
    "\n",
    "    ax.set_xticks(range(len(time_grid)))\n",
    "    ax.set_xticklabels([t.datetime.strftime(\"%H:%M\") for t in time_grid])\n",
    "\n",
    "    ax.set_xticks(np.arange(extent[0], extent[1]), minor=True)\n",
    "    ax.set_yticks(np.arange(extent[2], extent[3]), minor=True)\n",
    "\n",
    "    ax.grid(which='minor', color='w', linestyle='-', linewidth=2)\n",
    "    ax.tick_params(axis='x', which='minor', bottom='off')\n",
    "    plt.setp(ax.get_xticklabels(), rotation=30, ha='right')\n",
    "\n",
    "    ax.tick_params(axis='y', which='minor', left='off')\n",
    "    ax.set_xlabel('Time on {0} UTC'.format(time_grid[0].datetime.date()))\n",
    "    ax.set_title(name)\n",
    "    fig.subplots_adjust(left=0.35, right=0.9, top=0.9, bottom=0.1)\n",
    "    return fig, ax"
   ]
  },
  {
   "cell_type": "code",
   "execution_count": 182,
   "metadata": {
    "collapsed": false,
    "deletable": true,
    "editable": true
   },
   "outputs": [
    {
     "data": {
      "image/png": "[encoded data removed]",
      "text/plain": [
       "<matplotlib.figure.Figure at 0x111c949e8>"
      ]
     },
     "metadata": {},
     "output_type": "display_data"
    },
    {
     "data": {
      "image/png": "[encoded data removed]",
      "text/plain": [
       "<matplotlib.figure.Figure at 0x1151d4b38>"
      ]
     },
     "metadata": {},
     "output_type": "display_data"
    },
    {
     "data": {
      "image/png": "[encoded data removed]",
      "text/plain": [
       "<matplotlib.figure.Figure at 0x112340cf8>"
      ]
     },
     "metadata": {},
     "output_type": "display_data"
    },
    {
     "data": {
      "image/png": "[encoded data removed]",
      "text/plain": [
       "<matplotlib.figure.Figure at 0x111a69ba8>"
      ]
     },
     "metadata": {},
     "output_type": "display_data"
    },
    {
     "data": {
      "image/png": "[encoded data removed]",
      "text/plain": [
       "<matplotlib.figure.Figure at 0x10deee080>"
      ]
     },
     "metadata": {},
     "output_type": "display_data"
    }
   ],
   "source": [
    "from astroplan.utils import time_grid_from_range\n",
    "\n",
    "# Define range of times to observe between\n",
    "start_time = Time('2017-11-14 22:00:01')\n",
    "end_time = Time('2017-11-15 04:00:01')\n",
    "time_resolution = 1 * u.hour\n",
    "\n",
    "# Create grid of times from ``start_time`` to ``end_time``\n",
    "# with resolution ``time_resolution``\n",
    "time_grid = time_grid_from_range([start_time, end_time],\n",
    "                                 time_resolution=time_resolution)\n",
    "\n",
    "for target in targets: \n",
    "    observability_grid = np.zeros((len(constraints), len(time_grid)))\n",
    "\n",
    "    for i, constraint in enumerate(constraints):\n",
    "        # Evaluate each constraint\n",
    "        observability_grid[i, :] = constraint(cape_town, target, times=time_grid)\n",
    "    \n",
    "    plot_constraints(observability_grid, constraints, time_grid, target.name)"
   ]
  },
  {
   "cell_type": "markdown",
   "metadata": {
    "deletable": true,
    "editable": true
   },
   "source": [
    "In the above plot, grid squares that are purple represent times and constraints for which the target is observable, yellow is not observabable.\n",
    "\n",
    "Another way to visualize whether or not a target meets the constraints is with the `observability_table` function:"
   ]
  },
  {
   "cell_type": "code",
   "execution_count": 184,
   "metadata": {
    "collapsed": false,
    "deletable": true,
    "editable": true
   },
   "outputs": [
    {
     "data": {
      "text/html": [
       "&lt;Table length=5&gt;\n",
       "<table id=\"table4594801240\" class=\"table-striped table-bordered table-condensed\">\n",
       "<thead><tr><th>target name</th><th>ever observable</th><th>always observable</th><th>fraction of time observable</th></tr></thead>\n",
       "<thead><tr><th>str11</th><th>bool</th><th>bool</th><th>float64</th></tr></thead>\n",
       "<tr><td>Proxima</td><td>True</td><td>False</td><td>0.166666666667</td></tr>\n",
       "<tr><td>LMC</td><td>True</td><td>True</td><td>1.0</td></tr>\n",
       "<tr><td>SMC</td><td>True</td><td>True</td><td>1.0</td></tr>\n",
       "<tr><td>alpha Mensa</td><td>True</td><td>True</td><td>1.0</td></tr>\n",
       "<tr><td>Polaris</td><td>False</td><td>False</td><td>0.0</td></tr>\n",
       "</table>"
      ],
      "text/plain": [
       "<Table length=5>\n",
       "target name ever observable always observable fraction of time observable\n",
       "   str11          bool             bool                 float64          \n",
       "----------- --------------- ----------------- ---------------------------\n",
       "    Proxima            True             False              0.166666666667\n",
       "        LMC            True              True                         1.0\n",
       "        SMC            True              True                         1.0\n",
       "alpha Mensa            True              True                         1.0\n",
       "    Polaris           False             False                         0.0"
      ]
     },
     "execution_count": 184,
     "metadata": {},
     "output_type": "execute_result"
    }
   ],
   "source": [
    "from astroplan import observability_table\n",
    "observability_table(constraints, cape_town, targets, times=time_grid)"
   ]
  },
  {
   "cell_type": "markdown",
   "metadata": {
    "deletable": true,
    "editable": true
   },
   "source": [
    "Let's track that target's motion through the sky for the next ten hours in a plot: "
   ]
  },
  {
   "cell_type": "code",
   "execution_count": 189,
   "metadata": {
    "collapsed": false,
    "deletable": true,
    "editable": true
   },
   "outputs": [
    {
     "data": {
      "text/plain": [
       "<matplotlib.legend.Legend at 0x10deeb160>"
      ]
     },
     "execution_count": 189,
     "metadata": {},
     "output_type": "execute_result"
    },
    {
     "data": {
      "image/png": "[encoded data removed]",
      "text/plain": [
       "<matplotlib.figure.Figure at 0x114635a90>"
      ]
     },
     "metadata": {},
     "output_type": "display_data"
    }
   ],
   "source": [
    "from astroplan.plots import plot_sky\n",
    "\n",
    "# Plot at times: \n",
    "plot_times = Time.now() + np.linspace(0, 10, 10)*u.hour\n",
    "\n",
    "for target in targets:\n",
    "    plot_sky(target, cape_town, plot_times)\n",
    "plt.legend(loc=[1.2, 0])"
   ]
  },
  {
   "cell_type": "markdown",
   "metadata": {
    "deletable": true,
    "editable": true
   },
   "source": [
    "Perhaps you need to make a finder chart to help you find Proxima:"
   ]
  },
  {
   "cell_type": "code",
   "execution_count": null,
   "metadata": {
    "collapsed": false,
    "deletable": true,
    "editable": true
   },
   "outputs": [],
   "source": [
    "from astroplan.plots import plot_finder_image\n",
    "\n",
    "plot_finder_image(targets[0], fov_radius=5*u.arcmin, \n",
    "                  reticle=True, survey='2MASS-K')"
   ]
  },
  {
   "cell_type": "code",
   "execution_count": null,
   "metadata": {
    "collapsed": true,
    "deletable": true,
    "editable": true
   },
   "outputs": [],
   "source": []
  }
 ],
 "metadata": {
  "kernelspec": {
   "display_name": "Python 3",
   "language": "python",
   "name": "python3"
  },
  "language_info": {
   "codemirror_mode": {
    "name": "ipython",
    "version": 3
   },
   "file_extension": ".py",
   "mimetype": "text/x-python",
   "name": "python",
   "nbconvert_exporter": "python",
   "pygments_lexer": "ipython3",
   "version": "3.5.4"
  }
 },
 "nbformat": 4,
 "nbformat_minor": 0
}
