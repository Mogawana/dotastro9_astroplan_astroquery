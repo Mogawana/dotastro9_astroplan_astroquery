{
 "cells": [
  {
   "cell_type": "markdown",
   "metadata": {},
   "source": [
    "# Astropy Affiliated Packages: [`astroquery`](https://astroquery.readthedocs.io) and [`astroplan`](https://astroplan.readthedocs.io/en/latest/)\n",
    "<br /><br />\n",
    "\n",
    "![astropy logo](http://astropy.readthedocs.org/en/stable/_images/astropy_banner.svg)\n",
    "\n",
    "<br /><br />\n",
    "\n",
    "#### What is an [affiliated package](http://www.astropy.org/affiliated/)?\n",
    "\n",
    "From the astropy webpage: \n",
    "\n",
    "> A major part of the Astropy Project is the concept of “Affiliated Packages”... These packages demonstrate a commitment to Astropy’s goals of **improving reuse, interoperability, and interface standards** for Python astronomy and astrophysics packages. \n",
    "\n",
    "Astropy's goal is to be a core package for astronomy in Python. Affiliated packages extend the reach of astropy into specific niches not already supported by astropy. \n",
    "\n",
    "#### Abbreviated package census\n",
    "are too many affiliated pacakges to go over them all in my 20 minute slot, so I'm going to focus on two in this talk. But be sure to check out these others: \n",
    "\n",
    "* Cosmic ray detection in images [astroscrappy](https://github.com/astropy/astroscrappy)\n",
    "* CCD data processing with [ccdproc](https://github.com/astropy/ccdproc)\n",
    "* Linked data visualization with [glue](https://github.com/glue-viz/glue)\n",
    "* Photometry tools from [photutils](https://github.com/astropy/photutils.git)\n",
    "* Astronomical image reprojection with [reproject](https://github.com/astrofrog/reproject)\n",
    "\n",
    "...and more! See a complete list of affiliated packages [here](http://www.astropy.org/affiliated/).\n",
    "\n",
    "#### Starting your own affiliated package\n",
    "\n",
    "If you'd like to make your own package astropy affiliated, you can quickly make your pacakge conform to the astropy affiliated package standards by using the [package-template](https://github.com/astropy/package-template), which sets your package up for testing and documentation."
   ]
  },
  {
   "cell_type": "code",
   "execution_count": null,
   "metadata": {
    "collapsed": true,
    "deletable": true,
    "editable": true
   },
   "outputs": [],
   "source": []
  }
 ],
 "metadata": {
  "kernelspec": {
   "display_name": "Python 3",
   "language": "python",
   "name": "python3"
  },
  "language_info": {
   "codemirror_mode": {
    "name": "ipython",
    "version": 3
   },
   "file_extension": ".py",
   "mimetype": "text/x-python",
   "name": "python",
   "nbconvert_exporter": "python",
   "pygments_lexer": "ipython3",
   "version": "3.5.4"
  }
 },
 "nbformat": 4,
 "nbformat_minor": 0
}
