{
 "cells": [
  {
   "cell_type": "markdown",
   "metadata": {
    "deletable": true,
    "editable": true
   },
   "source": [
    "![astropy logo](http://astropy.readthedocs.org/en/stable/_images/astropy_banner.svg)\n",
    "\n",
    "<br /><br />\n",
    "\n",
    "# [`astroplan`](https://astroplan.readthedocs.org/en/latest/) <a id='astroplan'></a>\n",
    "\n",
    "\n",
    "`astroplan` is an `astropy`-affiliated package that helps you calculate when objects are observable from observatories on the Earth (Morris et al. 2017, submitted).\n",
    "\n",
    "\n",
    "## Table of contents\n",
    "* [astroplan](#astroplan)\n",
    "  * [Intro to astroplan](#introastroplan)\n",
    "  * [Constraints](#constraints)\n",
    "  * [Plots](#plots)\n",
    "\n",
    "\n",
    "\n",
    "<br /><br />\n",
    "\n",
    "### Intro to astroplan <a id='introastroplan'></a>\n",
    "\n",
    "You can describe an observatory using the [`Observer`](https://astroplan.readthedocs.io/en/latest/api/astroplan.Observer.html#astroplan.Observer) object, which knows about famous observatories:"
   ]
  },
  {
   "cell_type": "code",
   "execution_count": null,
   "metadata": {
    "collapsed": false,
    "deletable": true,
    "editable": true
   },
   "outputs": [],
   "source": [
    "from astroplan import Observer\n",
    "\n",
    "# Use the `at_site` method to access famous observatories\n",
    "salt = Observer.at_site('SALT')\n",
    "keck = Observer.at_site('Keck')\n",
    "\n",
    "from astropy.coordinates import EarthLocation\n",
    "print(\"Available observatories: \\n\\n{0}\"\n",
    "      .format(', '.join(EarthLocation.get_site_names())))"
   ]
  },
  {
   "cell_type": "markdown",
   "metadata": {
    "deletable": true,
    "editable": true
   },
   "source": [
    "You can also specify observatories not included in the database using an [`EarthLocation`](http://docs.astropy.org/en/stable/api/astropy.coordinates.EarthLocation.html) object:"
   ]
  },
  {
   "cell_type": "code",
   "execution_count": null,
   "metadata": {
    "collapsed": false,
    "deletable": true,
    "editable": true
   },
   "outputs": [],
   "source": [
    "from astropy.coordinates import EarthLocation\n",
    "\n",
    "latitude = -33.9249*u.deg\n",
    "longitude = 18.4241*u.deg\n",
    "elevation = 0*u.m\n",
    "\n",
    "# Specify the location of Cape Town:\n",
    "location = EarthLocation.from_geodetic(longitude, latitude, elevation)\n",
    "\n",
    "# Make an observer at Cape Town:\n",
    "cape_town = Observer(location=location, pressure=1*u.bar, temperature=20*u.deg_C)\n",
    "\n",
    "cape_town"
   ]
  },
  {
   "cell_type": "markdown",
   "metadata": {
    "deletable": true,
    "editable": true
   },
   "source": [
    "The pressure and temperature will be used in calculations for atmospheric refraction when computing the altitude and azimuth of targets.\n",
    "\n",
    "We define a target in the sky with a `FixedTarget` object, which simply contains a `SkyCoord` and a name:"
   ]
  },
  {
   "cell_type": "code",
   "execution_count": null,
   "metadata": {
    "collapsed": true,
    "deletable": true,
    "editable": true
   },
   "outputs": [],
   "source": [
    "from astroplan import FixedTarget\n",
    "from astropy.coordinates import SkyCoord\n",
    "\n",
    "coord = SkyCoord(ra='14h29m42.94853s', dec='-62d40m46.1631s', \n",
    "                 distance=4.224*u.lightyear)\n",
    "proxima = FixedTarget(coord=coord, name='Proxima Cen')"
   ]
  },
  {
   "cell_type": "markdown",
   "metadata": {
    "deletable": true,
    "editable": true
   },
   "source": [
    "We can use the `from_name` method to grab targets with their identifier, resolved via [Sesame](http://cds.u-strasbg.fr/cgi-bin/Sesame):"
   ]
  },
  {
   "cell_type": "code",
   "execution_count": null,
   "metadata": {
    "collapsed": false,
    "deletable": true,
    "editable": true
   },
   "outputs": [],
   "source": [
    "# Targets are stored as `astroplan.FixedTarget` objects\n",
    "target_names = ['Proxima', 'LMC', 'SMC', 'alpha Mensa', 'Polaris']\n",
    "targets = [FixedTarget.from_name(target) for target in target_names]"
   ]
  },
  {
   "cell_type": "markdown",
   "metadata": {
    "deletable": true,
    "editable": true
   },
   "source": [
    "Let's see which of these targets is \"up\" ($>0^\\circ$ altitude) now:"
   ]
  },
  {
   "cell_type": "code",
   "execution_count": null,
   "metadata": {
    "collapsed": false,
    "deletable": true,
    "editable": true
   },
   "outputs": [],
   "source": [
    "from astropy.time import Time\n",
    "\n",
    "# Which targets are visible right now?\n",
    "cape_town.target_is_up(Time.now(), targets)"
   ]
  },
  {
   "cell_type": "markdown",
   "metadata": {
    "deletable": true,
    "editable": true
   },
   "source": [
    "The circumpolar souther stars are up, and the circumpolar northern stars are not up.\n",
    "\n",
    "<br />\n",
    "*** \n",
    "<br />\n",
    "\n",
    "### [Constraints](http://astroplan.readthedocs.io/en/latest/tutorials/constraints.html) <a id='constraints'></a>\n",
    "\n",
    "Often you will need to plan observations given various constraints, for example, you might need to observe: \n",
    "* Between civil twilights (sun at $<-6^\\circ$ altitude)\n",
    "* The target altitude must be $20^\\circ < $alt$ < 85^\\circ$ (or similar pointing limits for your telescope)\n",
    "* The target is separated from the moon by at least $50^\\circ$\n",
    "\n",
    "`astroplan` provides a framework for defining these observing constraints, and computing whether or not targets are observable given those constraints. Let's implement the above list of constraints: "
   ]
  },
  {
   "cell_type": "code",
   "execution_count": null,
   "metadata": {
    "collapsed": false,
    "deletable": true,
    "editable": true
   },
   "outputs": [],
   "source": [
    "from astroplan import (AtNightConstraint, AltitudeConstraint, \n",
    "                       MoonSeparationConstraint, MoonIlluminationConstraint)\n",
    "\n",
    "constraints = [AtNightConstraint.twilight_civil(),\n",
    "               AltitudeConstraint(min=20*u.deg, max=85*u.deg), \n",
    "               MoonSeparationConstraint(min=2*u.deg)]"
   ]
  },
  {
   "cell_type": "code",
   "execution_count": null,
   "metadata": {
    "collapsed": true,
    "deletable": true,
    "editable": true
   },
   "outputs": [],
   "source": [
    "def plot_constraints(observability_grid, constraints, time_grid, name):\n",
    "    \"\"\"\n",
    "    Plot some constraints in a grid!\n",
    "    \"\"\"\n",
    "    extent = [-0.5, -0.5+len(time_grid), -0.5,  -0.5+len(constraints)]\n",
    "\n",
    "    fig, ax = plt.subplots()\n",
    "    ax.imshow(observability_grid, extent=extent)\n",
    "\n",
    "    ax.set_yticks(range(0, len(constraints)))\n",
    "    ax.set_yticklabels([c.__class__.__name__ for c in constraints])\n",
    "\n",
    "    ax.set_xticks(range(len(time_grid)))\n",
    "    ax.set_xticklabels([t.datetime.strftime(\"%H:%M\") for t in time_grid])\n",
    "\n",
    "    ax.set_xticks(np.arange(extent[0], extent[1]), minor=True)\n",
    "    ax.set_yticks(np.arange(extent[2], extent[3]), minor=True)\n",
    "\n",
    "    ax.grid(which='minor', color='w', linestyle='-', linewidth=2)\n",
    "    ax.tick_params(axis='x', which='minor', bottom='off')\n",
    "    plt.setp(ax.get_xticklabels(), rotation=30, ha='right')\n",
    "\n",
    "    ax.tick_params(axis='y', which='minor', left='off')\n",
    "    ax.set_xlabel('Time on {0} UTC'.format(time_grid[0].datetime.date()))\n",
    "    ax.set_title(name)\n",
    "    fig.subplots_adjust(left=0.35, right=0.9, top=0.9, bottom=0.1)\n",
    "    return fig, ax"
   ]
  },
  {
   "cell_type": "code",
   "execution_count": null,
   "metadata": {
    "collapsed": false,
    "deletable": true,
    "editable": true
   },
   "outputs": [],
   "source": [
    "from astroplan.utils import time_grid_from_range\n",
    "\n",
    "# Define range of times to observe between\n",
    "start_time = Time('2017-11-14 22:00:01')\n",
    "end_time = Time('2017-11-15 04:00:01')\n",
    "time_resolution = 1 * u.hour\n",
    "\n",
    "# Create grid of times from ``start_time`` to ``end_time``\n",
    "# with resolution ``time_resolution``\n",
    "time_grid = time_grid_from_range([start_time, end_time],\n",
    "                                 time_resolution=time_resolution)\n",
    "\n",
    "for target in targets: \n",
    "    observability_grid = np.zeros((len(constraints), len(time_grid)))\n",
    "\n",
    "    for i, constraint in enumerate(constraints):\n",
    "        # Evaluate each constraint\n",
    "        observability_grid[i, :] = constraint(cape_town, target, times=time_grid)\n",
    "    \n",
    "    plot_constraints(observability_grid, constraints, time_grid, target.name)"
   ]
  },
  {
   "cell_type": "markdown",
   "metadata": {
    "deletable": true,
    "editable": true
   },
   "source": [
    "In the above plot, grid squares that are purple represent times and constraints for which the target is observable, yellow is not observabable.\n",
    "\n",
    "Another way to visualize whether or not a target meets the constraints is with the `observability_table` function:"
   ]
  },
  {
   "cell_type": "code",
   "execution_count": null,
   "metadata": {
    "collapsed": false,
    "deletable": true,
    "editable": true
   },
   "outputs": [],
   "source": [
    "from astroplan import observability_table\n",
    "observability_table(constraints, cape_town, targets, times=time_grid)"
   ]
  },
  {
   "cell_type": "markdown",
   "metadata": {
    "deletable": true,
    "editable": true
   },
   "source": [
    "### Plots <a id='plots'></a>\n",
    "\n",
    "Let's track that target's motion through the sky for the next ten hours in a plot: "
   ]
  },
  {
   "cell_type": "code",
   "execution_count": null,
   "metadata": {
    "collapsed": false,
    "deletable": true,
    "editable": true
   },
   "outputs": [],
   "source": [
    "from astroplan.plots import plot_sky\n",
    "\n",
    "# Plot at times: \n",
    "plot_times = Time.now() + np.linspace(0, 10, 10)*u.hour\n",
    "\n",
    "for target in targets:\n",
    "    plot_sky(target, cape_town, plot_times)\n",
    "plt.legend(loc=[1.2, 0])"
   ]
  },
  {
   "cell_type": "markdown",
   "metadata": {
    "deletable": true,
    "editable": true
   },
   "source": [
    "Perhaps you need to make a finder chart to help you find Proxima:"
   ]
  },
  {
   "cell_type": "code",
   "execution_count": null,
   "metadata": {
    "collapsed": false,
    "deletable": true,
    "editable": true
   },
   "outputs": [],
   "source": [
    "from astroplan.plots import plot_finder_image\n",
    "\n",
    "plot_finder_image(targets[0], fov_radius=5*u.arcmin, \n",
    "                  reticle=True, survey='2MASS-K')"
   ]
  },
  {
   "cell_type": "code",
   "execution_count": null,
   "metadata": {
    "collapsed": true,
    "deletable": true,
    "editable": true
   },
   "outputs": [],
   "source": []
  }
 ],
 "metadata": {
  "kernelspec": {
   "display_name": "Python 3",
   "language": "python",
   "name": "python3"
  },
  "language_info": {
   "codemirror_mode": {
    "name": "ipython",
    "version": 3
   },
   "file_extension": ".py",
   "mimetype": "text/x-python",
   "name": "python",
   "nbconvert_exporter": "python",
   "pygments_lexer": "ipython3",
   "version": "3.5.4"
  }
 },
 "nbformat": 4,
 "nbformat_minor": 0
}
